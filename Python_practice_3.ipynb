{
 "cells": [
  {
   "cell_type": "code",
   "execution_count": 1,
   "metadata": {},
   "outputs": [],
   "source": [
    "# create a dictionary \n",
    "dict1 = {'data': 123, 'science':'234', 'AI':'235'}"
   ]
  },
  {
   "cell_type": "markdown",
   "metadata": {},
   "source": [
    "**Write a program to sort a dictionary by key**"
   ]
  },
  {
   "cell_type": "code",
   "execution_count": 2,
   "metadata": {},
   "outputs": [
    {
     "name": "stdout",
     "output_type": "stream",
     "text": [
      "AI: 235\n",
      "data: 123\n",
      "science: 234\n"
     ]
    }
   ],
   "source": [
    "# solution\n",
    "for key in sorted(dict1):\n",
    "    print(\"%s: %s\" %(key, dict1[key]))"
   ]
  },
  {
   "cell_type": "markdown",
   "metadata": {},
   "source": [
    "**Write a Python program to get a dictionary from an object's fields**"
   ]
  },
  {
   "cell_type": "code",
   "execution_count": 3,
   "metadata": {
    "scrolled": true
   },
   "outputs": [
    {
     "name": "stdout",
     "output_type": "stream",
     "text": [
      "{'x': 'algorithm', 'y': 'statistics', 'z': 'programming'}\n"
     ]
    }
   ],
   "source": [
    "# solution\n",
    "class dictObj(object):\n",
    "    def __init__(self):\n",
    "        self.x = 'algorithm'\n",
    "        self.y = 'statistics'\n",
    "        self.z = 'programming'\n",
    "        \n",
    "    def do_nothing(self):\n",
    "        pass\n",
    "\n",
    "test = dictObj()\n",
    "print(test.__dict__)"
   ]
  },
  {
   "cell_type": "markdown",
   "metadata": {},
   "source": [
    "**Write a program to remove duplicates from Dictionary**"
   ]
  },
  {
   "cell_type": "code",
   "execution_count": 11,
   "metadata": {},
   "outputs": [
    {
     "name": "stdout",
     "output_type": "stream",
     "text": [
      "{'id1': {'name': ['Sarah'], 'class': ['V'], 'subject_intergration': ['english, math, science']}, 'id2': {'name': ['David'], 'class': ['V'], 'subject_intergration': ['english, math, science']}, 'id4': {'name': ['Surya'], 'class': ['V'], 'subject_intergration': ['english, math, science']}}\n"
     ]
    }
   ],
   "source": [
    "# solution\n",
    "student_data = {'id1':\n",
    "               {'name': ['Sarah'],\n",
    "               'class':['V'],\n",
    "               'subject_intergration': ['english, math, science']},\n",
    "               'id2':\n",
    "               {'name': ['David'],\n",
    "               'class':['V'],\n",
    "               'subject_intergration': ['english, math, science']},\n",
    "               'id3':\n",
    "               {'name': ['Sarah'],\n",
    "               'class':['V'],\n",
    "               'subject_intergration': ['english, math, science']},\n",
    "               'id4':\n",
    "               {'name': ['Surya'],\n",
    "               'class':['V'],\n",
    "               'subject_intergration': ['english, math, science']},\n",
    "               }\n",
    "\n",
    "result = {}\n",
    "\n",
    "for key,value in student_data.items():\n",
    "    if value not in result.values():\n",
    "        result[key] = value\n",
    "        \n",
    "print(result)"
   ]
  },
  {
   "cell_type": "markdown",
   "metadata": {},
   "source": [
    "**Write a program to print all unique values from a dictionary in a list**"
   ]
  },
  {
   "cell_type": "code",
   "execution_count": 12,
   "metadata": {},
   "outputs": [],
   "source": [
    "data = [{\"V\":\"S001\"}, {\"V\": \"S002\"}, {\"VI\": \"S001\"}, {\"VI\": \"S005\"}, {\"VII\":\"S005\"}, {\n",
    "\"V\":\"S009\"},{\"VIII\":\"S007\"}]"
   ]
  },
  {
   "cell_type": "code",
   "execution_count": 13,
   "metadata": {},
   "outputs": [
    {
     "ename": "AttributeError",
     "evalue": "'list' object has no attribute 'items'",
     "output_type": "error",
     "traceback": [
      "\u001b[1;31m---------------------------------------------------------------------------\u001b[0m",
      "\u001b[1;31mAttributeError\u001b[0m                            Traceback (most recent call last)",
      "\u001b[1;32m<ipython-input-13-8d30a20a5c6b>\u001b[0m in \u001b[0;36m<module>\u001b[1;34m\u001b[0m\n\u001b[0;32m      1\u001b[0m \u001b[1;31m# solution\u001b[0m\u001b[1;33m\u001b[0m\u001b[1;33m\u001b[0m\u001b[1;33m\u001b[0m\u001b[0m\n\u001b[1;32m----> 2\u001b[1;33m \u001b[0mu_value\u001b[0m \u001b[1;33m=\u001b[0m \u001b[0mset\u001b[0m\u001b[1;33m(\u001b[0m\u001b[0mval\u001b[0m \u001b[1;32mfor\u001b[0m \u001b[0mkey\u001b[0m\u001b[1;33m,\u001b[0m\u001b[0mvalue\u001b[0m \u001b[1;32min\u001b[0m \u001b[0mdata\u001b[0m\u001b[1;33m.\u001b[0m\u001b[0mitems\u001b[0m\u001b[1;33m(\u001b[0m\u001b[1;33m)\u001b[0m\u001b[1;33m)\u001b[0m\u001b[1;33m\u001b[0m\u001b[1;33m\u001b[0m\u001b[0m\n\u001b[0m\u001b[0;32m      3\u001b[0m \u001b[0mprint\u001b[0m\u001b[1;33m(\u001b[0m\u001b[1;34m'Unique Values:\\t'\u001b[0m\u001b[1;33m,\u001b[0m \u001b[0mu_value\u001b[0m\u001b[1;33m)\u001b[0m\u001b[1;33m\u001b[0m\u001b[1;33m\u001b[0m\u001b[0m\n",
      "\u001b[1;31mAttributeError\u001b[0m: 'list' object has no attribute 'items'"
     ]
    }
   ],
   "source": [
    "# solution \n",
    "u_value = set(val for)\n",
    "print('Unique Values:\\t', u_value)"
   ]
  },
  {
   "cell_type": "code",
   "execution_count": null,
   "metadata": {},
   "outputs": [],
   "source": []
  }
 ],
 "metadata": {
  "kernelspec": {
   "display_name": "Python 3",
   "language": "python",
   "name": "python3"
  },
  "language_info": {
   "codemirror_mode": {
    "name": "ipython",
    "version": 3
   },
   "file_extension": ".py",
   "mimetype": "text/x-python",
   "name": "python",
   "nbconvert_exporter": "python",
   "pygments_lexer": "ipython3",
   "version": "3.8.6"
  }
 },
 "nbformat": 4,
 "nbformat_minor": 4
}
