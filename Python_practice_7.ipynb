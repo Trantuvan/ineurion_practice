{
 "cells": [
  {
   "cell_type": "markdown",
   "metadata": {},
   "source": [
    "**Create a tuple from multiple data type**"
   ]
  },
  {
   "cell_type": "code",
   "execution_count": 1,
   "metadata": {},
   "outputs": [],
   "source": [
    "tuple1 = ('tuple', False, 3.2, 1)"
   ]
  },
  {
   "cell_type": "code",
   "execution_count": 2,
   "metadata": {},
   "outputs": [
    {
     "name": "stdout",
     "output_type": "stream",
     "text": [
      "('tuple', False, 3.2, 1)\n"
     ]
    }
   ],
   "source": [
    "print(tuple1)"
   ]
  },
  {
   "cell_type": "code",
   "execution_count": 3,
   "metadata": {},
   "outputs": [],
   "source": [
    "a = ['tuple','dict', 'try']\n",
    "b = [2.3, 4.5, 6.7]\n",
    "c = [1,2,3]\n",
    "d = [True, False, True]"
   ]
  },
  {
   "cell_type": "code",
   "execution_count": 4,
   "metadata": {},
   "outputs": [],
   "source": [
    "tuple2 = (a,b,c,d)"
   ]
  },
  {
   "cell_type": "code",
   "execution_count": 5,
   "metadata": {},
   "outputs": [
    {
     "name": "stdout",
     "output_type": "stream",
     "text": [
      "(['tuple', 'dict', 'try'], [2.3, 4.5, 6.7], [1, 2, 3], [True, False, True])\n"
     ]
    }
   ],
   "source": [
    "print(tuple2)"
   ]
  },
  {
   "cell_type": "markdown",
   "metadata": {},
   "source": [
    "**Create a list of length 3 and Create a list of length 4, For each element in the first list, Display the corresponding index element of the second list**"
   ]
  },
  {
   "cell_type": "code",
   "execution_count": 6,
   "metadata": {},
   "outputs": [],
   "source": [
    "# Solution_1\n",
    "# Create a list of length 3\n",
    "header = ['data science','Blue mix', 'algorithms']\n",
    "\n",
    "# Create a list of length 4\n",
    "match = ['Red hat','Blue mixx','Green gold',' Orange Ai']"
   ]
  },
  {
   "cell_type": "code",
   "execution_count": 7,
   "metadata": {},
   "outputs": [
    {
     "name": "stdout",
     "output_type": "stream",
     "text": [
      "data science has the following options: Red hat\n",
      "Blue mix has the following options: Blue mixx\n",
      "algorithms has the following options: Green gold\n"
     ]
    }
   ],
   "source": [
    "# for each element in the frist list\n",
    "for header, match in zip(header, match):\n",
    "#     display the corresonding index element of the second list:\n",
    "    print(header, 'has the following options:', match)"
   ]
  },
  {
   "cell_type": "code",
   "execution_count": 10,
   "metadata": {},
   "outputs": [],
   "source": [
    "# display an example of Nested For loops using list comprehensive\n",
    "# Create a list of length 3\n",
    "headers = ['data science','Blue mix', 'algorithms']\n",
    "\n",
    "# Create a list of length 4\n",
    "matches = ['Red hat','Blue mixx','Green gold',' Orange Ai']"
   ]
  },
  {
   "cell_type": "code",
   "execution_count": 11,
   "metadata": {
    "collapsed": true
   },
   "outputs": [
    {
     "data": {
      "text/plain": [
       "[('data science', 'Red hat'),\n",
       " ('data science', 'Blue mixx'),\n",
       " ('data science', 'Green gold'),\n",
       " ('data science', ' Orange Ai'),\n",
       " ('Blue mix', 'Red hat'),\n",
       " ('Blue mix', 'Blue mixx'),\n",
       " ('Blue mix', 'Green gold'),\n",
       " ('Blue mix', ' Orange Ai'),\n",
       " ('algorithms', 'Red hat'),\n",
       " ('algorithms', 'Blue mixx'),\n",
       " ('algorithms', 'Green gold'),\n",
       " ('algorithms', ' Orange Ai')]"
      ]
     },
     "execution_count": 11,
     "metadata": {},
     "output_type": "execute_result"
    }
   ],
   "source": [
    "# solution_2\n",
    "[(header, match) for header in headers for match in matches]"
   ]
  },
  {
   "cell_type": "markdown",
   "metadata": {},
   "source": [
    "**Write a program for breaking and exiting out of loop**"
   ]
  },
  {
   "cell_type": "code",
   "execution_count": 14,
   "metadata": {},
   "outputs": [],
   "source": [
    "# Create a list\n",
    "armies = ['Red Army','Blue Army', 'Green Army']"
   ]
  },
  {
   "cell_type": "code",
   "execution_count": 15,
   "metadata": {},
   "outputs": [
    {
     "name": "stdout",
     "output_type": "stream",
     "text": [
      "Red Army\n",
      "Blue Army\n",
      "Bule Army Found! Stopping.\n",
      "Green Army\n"
     ]
    }
   ],
   "source": [
    "for army in armies:\n",
    "    print(army)\n",
    "    if army == 'Blue Army':\n",
    "        print('Bule Army Found! Stopping.')\n"
   ]
  },
  {
   "cell_type": "markdown",
   "metadata": {},
   "source": [
    "A loop will exit when completed,but using an else statement we can add an action at the conclusion of the loop if it hasn't been exited earlier."
   ]
  },
  {
   "cell_type": "code",
   "execution_count": null,
   "metadata": {},
   "outputs": [],
   "source": [
    "for army in armies:\n",
    "    print(army)\n",
    "    if army == 'Orange Army':\n",
    "        break\n",
    "    else:"
   ]
  }
 ],
 "metadata": {
  "kernelspec": {
   "display_name": "Python 3",
   "language": "python",
   "name": "python3"
  },
  "language_info": {
   "codemirror_mode": {
    "name": "ipython",
    "version": 3
   },
   "file_extension": ".py",
   "mimetype": "text/x-python",
   "name": "python",
   "nbconvert_exporter": "python",
   "pygments_lexer": "ipython3",
   "version": "3.8.6"
  }
 },
 "nbformat": 4,
 "nbformat_minor": 4
}
