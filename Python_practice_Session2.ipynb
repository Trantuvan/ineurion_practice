{
 "cells": [
  {
   "cell_type": "markdown",
   "metadata": {},
   "source": [
    "**Write a Python program to sum all the items in list**"
   ]
  },
  {
   "cell_type": "code",
   "execution_count": 8,
   "metadata": {},
   "outputs": [
    {
     "data": {
      "text/plain": [
       "[1, 3, -5]"
      ]
     },
     "execution_count": 8,
     "metadata": {},
     "output_type": "execute_result"
    }
   ],
   "source": [
    "# solution_1 using fuction with for loop\n",
    "def sum_list_1(items):\n",
    "    sum_number = 0\n",
    "    for item in items:\n",
    "        sum_number+=item\n",
    "    return sum_number\n",
    "# print(sum_list([1,2,-8]))\n",
    "\n",
    "# solution_2 using function with while loop\n",
    "def sum_list_2(items):\n",
    "    sum_number = 0\n",
    "    i = 0\n",
    "    while i<len(items):\n",
    "        item = items[i]\n",
    "        i+=1\n",
    "        sum_number+=item\n",
    "    return sum_number\n",
    "# print(sum_list_2([1,2,-8]))\n",
    "\n",
    "# solution_3 using list comprehensive with \":=\" assignment inside expression\n",
    "# this return a cumulative list\n",
    "sum_number = 0\n",
    "[sum_number := sum_number + i for i in [1,2,-8]]"
   ]
  },
  {
   "cell_type": "markdown",
   "metadata": {},
   "source": [
    "**Write a Python program to count the number of strings where the string length is 2 or\n",
    "more and the first and last charater are same from a given list of string**"
   ]
  },
  {
   "cell_type": "code",
   "execution_count": 16,
   "metadata": {},
   "outputs": [],
   "source": [
    "# solution\n",
    "def match_word(words):\n",
    "    ctr = 0    \n",
    "    for word in words:\n",
    "#         bitwise & operator meant for numeric not for alphabet\n",
    "        if len(word) > 1 and word[0] == word[-1]:\n",
    "            ctr+=1\n",
    "    return ctr"
   ]
  },
  {
   "cell_type": "code",
   "execution_count": 17,
   "metadata": {},
   "outputs": [
    {
     "name": "stdout",
     "output_type": "stream",
     "text": [
      "4\n"
     ]
    }
   ],
   "source": [
    "a = ['abc','xyz','aba','1221','aa','bhgssknb']\n",
    "print(match_word(a))"
   ]
  },
  {
   "cell_type": "markdown",
   "metadata": {},
   "source": [
    "**Write a Python program to remove duplicate from a list**"
   ]
  },
  {
   "cell_type": "code",
   "execution_count": 43,
   "metadata": {},
   "outputs": [
    {
     "data": {
      "text/plain": [
       "{10: 1, 20: 1, 30: 1, 50: 1, 60: 1, 40: 1, 80: 1}"
      ]
     },
     "execution_count": 43,
     "metadata": {},
     "output_type": "execute_result"
    }
   ],
   "source": [
    "# solution_1 list comprehensive\n",
    "sample_list = [10,20,30,20,10,50,60,40,80,50,40]\n",
    "a = []\n",
    "[a.append(i) for i in sample_list if i not in a]\n",
    "# dup_items\n",
    "\n",
    "b = [i for i in set(sample_list)]\n",
    "# b\n",
    "\n",
    "# solution_2 using dict/ dict key must be unique ?\n",
    "c = dict([(i,1) for i in sample_list])\n",
    "c"
   ]
  },
  {
   "cell_type": "code",
   "execution_count": 38,
   "metadata": {},
   "outputs": [
    {
     "data": {
      "text/plain": [
       "[40, 10, 80, 50, 20, 60, 30]"
      ]
     },
     "execution_count": 38,
     "metadata": {},
     "output_type": "execute_result"
    }
   ],
   "source": [
    "# solution_2 using set\n",
    "sample_list = [10,20,30,20,10,50,60,40,80,50,40]\n",
    "b = [*set(sample_list)]\n",
    "b"
   ]
  },
  {
   "cell_type": "code",
   "execution_count": 45,
   "metadata": {},
   "outputs": [
    {
     "name": "stdout",
     "output_type": "stream",
     "text": [
      "[10, 20, 30, 50, 60, 40, 80]\n"
     ]
    }
   ],
   "source": [
    "# solution_3 using for loop\n",
    "sample_list = [10,20,30,20,10,50,60,40,80,50,40]\n",
    "uniq_items = []\n",
    "for i in sample_list:\n",
    "    if i not in uniq_items:\n",
    "        uniq_items.append(i)\n",
    "print(uniq_items)"
   ]
  },
  {
   "cell_type": "code",
   "execution_count": null,
   "metadata": {},
   "outputs": [],
   "source": []
  }
 ],
 "metadata": {
  "kernelspec": {
   "display_name": "Python 3",
   "language": "python",
   "name": "python3"
  },
  "language_info": {
   "codemirror_mode": {
    "name": "ipython",
    "version": 3
   },
   "file_extension": ".py",
   "mimetype": "text/x-python",
   "name": "python",
   "nbconvert_exporter": "python",
   "pygments_lexer": "ipython3",
   "version": "3.8.3"
  }
 },
 "nbformat": 4,
 "nbformat_minor": 4
}
