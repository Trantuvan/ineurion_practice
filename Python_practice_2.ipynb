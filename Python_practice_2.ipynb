{
 "cells": [
  {
   "cell_type": "markdown",
   "metadata": {},
   "source": [
    "**Write a Python program to check if all dictionaries in a list are empty or not.**"
   ]
  },
  {
   "cell_type": "code",
   "execution_count": 5,
   "metadata": {},
   "outputs": [
    {
     "name": "stdout",
     "output_type": "stream",
     "text": [
      "True\n",
      "False\n",
      "False\n"
     ]
    }
   ],
   "source": [
    "# solution \n",
    "my_list_1 = [{},{},{}]\n",
    "my_list_2 = [{123,'456'},{},{},{}]\n",
    "my_list_3 = [{},1,3,4]\n",
    "\n",
    "# All function return True for empty iterable or iterable with full item (1 False or empty will return False)\n",
    "# for d in my_list_1 se loop trong list not d tra lai True if dict rong\n",
    "# vs my_list_1 all(True,True,True)\n",
    "# vs my_list_2 all(False,True,True)\n",
    "print(all(not d for d in my_list_1))\n",
    "print(all(not d for d in my_list_2))\n",
    "print(all(not d for d in my_list_3))"
   ]
  },
  {
   "cell_type": "code",
   "execution_count": 6,
   "metadata": {},
   "outputs": [],
   "source": [
    "# if hitting return statement it will immediately terminated the function\n",
    "# using all(my_list_1) != all(not d in my_list_1)\n",
    "# my_list_1 not an empty list it containts 3 empty dicts so it return False\n",
    "# all(not d in my_list_1) --> all(True,True,True). not d in my_list_1 is iterable\n",
    "def check_empty(iterable):\n",
    "    for elem in iterable:\n",
    "        if not elem:\n",
    "            return False\n",
    "    return True"
   ]
  },
  {
   "cell_type": "code",
   "execution_count": 10,
   "metadata": {},
   "outputs": [
    {
     "data": {
      "text/plain": [
       "False"
      ]
     },
     "execution_count": 10,
     "metadata": {},
     "output_type": "execute_result"
    }
   ],
   "source": [
    "check_empty(my_list_1)"
   ]
  },
  {
   "cell_type": "code",
   "execution_count": 11,
   "metadata": {},
   "outputs": [
    {
     "data": {
      "text/plain": [
       "True"
      ]
     },
     "execution_count": 11,
     "metadata": {},
     "output_type": "execute_result"
    }
   ],
   "source": [
    "all(not d for d in my_list_1)"
   ]
  },
  {
   "cell_type": "code",
   "execution_count": 12,
   "metadata": {},
   "outputs": [
    {
     "data": {
      "text/plain": [
       "[True, True, True]"
      ]
     },
     "execution_count": 12,
     "metadata": {},
     "output_type": "execute_result"
    }
   ],
   "source": [
    "list(not d for d in my_list_1)"
   ]
  },
  {
   "cell_type": "code",
   "execution_count": 13,
   "metadata": {},
   "outputs": [
    {
     "data": {
      "text/plain": [
       "True"
      ]
     },
     "execution_count": 13,
     "metadata": {},
     "output_type": "execute_result"
    }
   ],
   "source": [
    "check_empty(not d for d in my_list_1)"
   ]
  },
  {
   "cell_type": "code",
   "execution_count": 43,
   "metadata": {},
   "outputs": [
    {
     "data": {
      "text/plain": [
       "<list_iterator at 0x1e50fb42430>"
      ]
     },
     "execution_count": 43,
     "metadata": {},
     "output_type": "execute_result"
    }
   ],
   "source": [
    "my_list_1.__iter__()"
   ]
  },
  {
   "cell_type": "code",
   "execution_count": 8,
   "metadata": {
    "collapsed": true
   },
   "outputs": [
    {
     "name": "stdout",
     "output_type": "stream",
     "text": [
      "Help on set object:\n",
      "\n",
      "class set(object)\n",
      " |  set() -> new empty set object\n",
      " |  set(iterable) -> new set object\n",
      " |  \n",
      " |  Build an unordered collection of unique elements.\n",
      " |  \n",
      " |  Methods defined here:\n",
      " |  \n",
      " |  __and__(self, value, /)\n",
      " |      Return self&value.\n",
      " |  \n",
      " |  __contains__(...)\n",
      " |      x.__contains__(y) <==> y in x.\n",
      " |  \n",
      " |  __eq__(self, value, /)\n",
      " |      Return self==value.\n",
      " |  \n",
      " |  __ge__(self, value, /)\n",
      " |      Return self>=value.\n",
      " |  \n",
      " |  __getattribute__(self, name, /)\n",
      " |      Return getattr(self, name).\n",
      " |  \n",
      " |  __gt__(self, value, /)\n",
      " |      Return self>value.\n",
      " |  \n",
      " |  __iand__(self, value, /)\n",
      " |      Return self&=value.\n",
      " |  \n",
      " |  __init__(self, /, *args, **kwargs)\n",
      " |      Initialize self.  See help(type(self)) for accurate signature.\n",
      " |  \n",
      " |  __ior__(self, value, /)\n",
      " |      Return self|=value.\n",
      " |  \n",
      " |  __isub__(self, value, /)\n",
      " |      Return self-=value.\n",
      " |  \n",
      " |  __iter__(self, /)\n",
      " |      Implement iter(self).\n",
      " |  \n",
      " |  __ixor__(self, value, /)\n",
      " |      Return self^=value.\n",
      " |  \n",
      " |  __le__(self, value, /)\n",
      " |      Return self<=value.\n",
      " |  \n",
      " |  __len__(self, /)\n",
      " |      Return len(self).\n",
      " |  \n",
      " |  __lt__(self, value, /)\n",
      " |      Return self<value.\n",
      " |  \n",
      " |  __ne__(self, value, /)\n",
      " |      Return self!=value.\n",
      " |  \n",
      " |  __or__(self, value, /)\n",
      " |      Return self|value.\n",
      " |  \n",
      " |  __rand__(self, value, /)\n",
      " |      Return value&self.\n",
      " |  \n",
      " |  __reduce__(...)\n",
      " |      Return state information for pickling.\n",
      " |  \n",
      " |  __repr__(self, /)\n",
      " |      Return repr(self).\n",
      " |  \n",
      " |  __ror__(self, value, /)\n",
      " |      Return value|self.\n",
      " |  \n",
      " |  __rsub__(self, value, /)\n",
      " |      Return value-self.\n",
      " |  \n",
      " |  __rxor__(self, value, /)\n",
      " |      Return value^self.\n",
      " |  \n",
      " |  __sizeof__(...)\n",
      " |      S.__sizeof__() -> size of S in memory, in bytes\n",
      " |  \n",
      " |  __sub__(self, value, /)\n",
      " |      Return self-value.\n",
      " |  \n",
      " |  __xor__(self, value, /)\n",
      " |      Return self^value.\n",
      " |  \n",
      " |  add(...)\n",
      " |      Add an element to a set.\n",
      " |      \n",
      " |      This has no effect if the element is already present.\n",
      " |  \n",
      " |  clear(...)\n",
      " |      Remove all elements from this set.\n",
      " |  \n",
      " |  copy(...)\n",
      " |      Return a shallow copy of a set.\n",
      " |  \n",
      " |  difference(...)\n",
      " |      Return the difference of two or more sets as a new set.\n",
      " |      \n",
      " |      (i.e. all elements that are in this set but not the others.)\n",
      " |  \n",
      " |  difference_update(...)\n",
      " |      Remove all elements of another set from this set.\n",
      " |  \n",
      " |  discard(...)\n",
      " |      Remove an element from a set if it is a member.\n",
      " |      \n",
      " |      If the element is not a member, do nothing.\n",
      " |  \n",
      " |  intersection(...)\n",
      " |      Return the intersection of two sets as a new set.\n",
      " |      \n",
      " |      (i.e. all elements that are in both sets.)\n",
      " |  \n",
      " |  intersection_update(...)\n",
      " |      Update a set with the intersection of itself and another.\n",
      " |  \n",
      " |  isdisjoint(...)\n",
      " |      Return True if two sets have a null intersection.\n",
      " |  \n",
      " |  issubset(...)\n",
      " |      Report whether another set contains this set.\n",
      " |  \n",
      " |  issuperset(...)\n",
      " |      Report whether this set contains another set.\n",
      " |  \n",
      " |  pop(...)\n",
      " |      Remove and return an arbitrary set element.\n",
      " |      Raises KeyError if the set is empty.\n",
      " |  \n",
      " |  remove(...)\n",
      " |      Remove an element from a set; it must be a member.\n",
      " |      \n",
      " |      If the element is not a member, raise a KeyError.\n",
      " |  \n",
      " |  symmetric_difference(...)\n",
      " |      Return the symmetric difference of two sets as a new set.\n",
      " |      \n",
      " |      (i.e. all elements that are in exactly one of the sets.)\n",
      " |  \n",
      " |  symmetric_difference_update(...)\n",
      " |      Update a set with the symmetric difference of itself and another.\n",
      " |  \n",
      " |  union(...)\n",
      " |      Return the union of sets as a new set.\n",
      " |      \n",
      " |      (i.e. all elements that are in either set.)\n",
      " |  \n",
      " |  update(...)\n",
      " |      Update a set with the union of itself and others.\n",
      " |  \n",
      " |  ----------------------------------------------------------------------\n",
      " |  Static methods defined here:\n",
      " |  \n",
      " |  __new__(*args, **kwargs) from builtins.type\n",
      " |      Create and return a new object.  See help(type) for accurate signature.\n",
      " |  \n",
      " |  ----------------------------------------------------------------------\n",
      " |  Data and other attributes defined here:\n",
      " |  \n",
      " |  __hash__ = None\n",
      "\n"
     ]
    }
   ],
   "source": [
    "# t is set object not a dictionary\n",
    "t = {123,'456'}\n",
    "help(t)"
   ]
  },
  {
   "cell_type": "markdown",
   "metadata": {},
   "source": [
    "**Write a Python program to remove duplicates from a list of lists**"
   ]
  },
  {
   "cell_type": "code",
   "execution_count": 32,
   "metadata": {},
   "outputs": [
    {
     "name": "stdout",
     "output_type": "stream",
     "text": [
      "not_dup with set and tuple:\n",
      " {(310, 220), (240,), (110, 120), (133,), (330, 456, 425)}\n",
      "\n",
      "return the not dup:\n",
      " [[310, 220], [240], [110, 120], [133], [330, 456, 425]]\n",
      "\n",
      "sort num dup:\n",
      " [[110, 120], [133], [240], [310, 220], [330, 456, 425]]\n"
     ]
    }
   ],
   "source": [
    "num = [[110,120], [240], [330, 456, 425], [310,220], [133], [240]]\n",
    "\n",
    "# 1st need to sort the list. 2 way to sort:\n",
    "# list built-in list.sort() (modify origional list) *not recommended\n",
    "# sorted function \n",
    "new_num = sorted(num)\n",
    "\n",
    "# solution_1 using set\n",
    "# need to convert the inner lists to tuples to they are remain uchange\n",
    "num_set = set(map(tuple,num))\n",
    "print('not_dup with set and tuple:\\n', num_set)\n",
    "print()\n",
    "# convert back inner tuple to lists\n",
    "num_not_dup = list(map(list,num_set))\n",
    "print('return the not dup:\\n', num_not_dup)\n",
    "print()\n",
    "# using sorted() if needed\n",
    "sort_num_dup = sorted(num_not_dup)\n",
    "print('sort num dup:\\n',sort_num_dup)"
   ]
  },
  {
   "cell_type": "code",
   "execution_count": 48,
   "metadata": {},
   "outputs": [
    {
     "name": "stdout",
     "output_type": "stream",
     "text": [
      "num set using comprehensive:\n",
      " {(310, 220), (240,), (110, 120), (133,), (330, 456, 425)}\n",
      "\n",
      "num not dup using list comprehensive\n",
      " [[310, 220], [240], [110, 120], [133], [330, 456, 425]]\n",
      "\n",
      "using custom sort with num order\n",
      " [[110, 120], [240], [330, 456, 425], [310, 220], [133]]\n"
     ]
    }
   ],
   "source": [
    "# solution_2 using comprehensive/generators;\n",
    "num = [[110,120], [240], [330, 456, 425], [310,220], [133], [240]]\n",
    "\n",
    "num_set_2 = set(tuple(x) for x in num)\n",
    "print('num set using comprehensive:\\n',num_set_2)\n",
    "print()\n",
    "num_not_dup_2 = [list(x) for x in num_set_2]\n",
    "print('num not dup using list comprehensive\\n', num_not_dup_2)\n",
    "print()\n",
    "# custom sort list\n",
    "num_not_dup_2.sort(key = num.index)\n",
    "print('using custom sort with num order\\n',num_not_dup_2)"
   ]
  },
  {
   "cell_type": "code",
   "execution_count": 50,
   "metadata": {},
   "outputs": [
    {
     "name": "stdout",
     "output_type": "stream",
     "text": [
      "[[110, 120], [240], [330, 456, 425], [310, 220], [133]]\n"
     ]
    }
   ],
   "source": [
    "# solution_3 using for loop\n",
    "num = [[110,120], [240], [330, 456, 425], [310,220], [133], [240]]\n",
    "\n",
    "# retain the order of origional num. However, slower and more verbose than set\n",
    "not_dup = []\n",
    "for elem in num:\n",
    "    if elem not in not_dup:\n",
    "        not_dup.append(elem)\n",
    "print(not_dup)"
   ]
  },
  {
   "cell_type": "code",
   "execution_count": 54,
   "metadata": {},
   "outputs": [
    {
     "name": "stdout",
     "output_type": "stream",
     "text": [
      "list with no dup\n",
      " [[110, 120], [133], [240], [310, 220], [330, 456, 425]]\n"
     ]
    }
   ],
   "source": [
    "# solution_3 using itertools.groupby()\n",
    "# groupby work best with sorted sequence when sort the duplicated num will stand\n",
    "# together and have the same key as elem in list if key = None just calling key\n",
    "# we will achieve list without duplicate\n",
    "import itertools\n",
    "num = [[110,120], [240], [330, 456, 425], [310,220], [133], [240]]\n",
    "\n",
    "new_num = sorted(num)\n",
    "\n",
    "# you can also ommit one variable in for key,_ ommit value\n",
    "new_num_no_dup = list(key for key,value in itertools.groupby(new_num))\n",
    "print('list with no dup\\n',new_num_no_dup)"
   ]
  },
  {
   "cell_type": "markdown",
   "metadata": {},
   "source": [
    "**Write a Python program to extend a list without append**"
   ]
  },
  {
   "cell_type": "code",
   "execution_count": 83,
   "metadata": {},
   "outputs": [
    {
     "name": "stdout",
     "output_type": "stream",
     "text": [
      "adding value to a list using extend\n",
      " [103, 320, 430, 403, 503, 603]\n",
      "\n",
      "using slice but this method will add new elem in first\n",
      " [403, 503, 603, 103, 320, 430, 403, 503, 603]\n"
     ]
    }
   ],
   "source": [
    "x = [103,320,430]\n",
    "y = [403,503,603]\n",
    "\n",
    "# solution_1 using extend\n",
    "x.extend(y)\n",
    "print('adding value to a list using extend\\n',x)\n",
    "print()\n",
    "\n",
    "# solution_2 using slice\n",
    "x[:0] = y\n",
    "print('using slice but this method will add new elem in first\\n',x)"
   ]
  },
  {
   "cell_type": "markdown",
   "metadata": {},
   "source": [
    "**Write a Python program to find the list in a list of lists whose sum of elements is the highest**"
   ]
  },
  {
   "cell_type": "code",
   "execution_count": 85,
   "metadata": {},
   "outputs": [
    {
     "name": "stdout",
     "output_type": "stream",
     "text": [
      "choosing the list with maximum sum by providing key=sum func\n",
      " [10, 11, 12]\n"
     ]
    }
   ],
   "source": [
    "num = [[1,2,3],[4,5,6],[10,11,12],[7,8,9]]\n",
    "\n",
    "# solution using custom max by overload the built-in max with the func sum\n",
    "print('choosing the list with maximum sum by providing key=sum func\\n'\n",
    "      ,max(num,key=sum))"
   ]
  },
  {
   "cell_type": "markdown",
   "metadata": {},
   "source": [
    "**Write a Python program to access dictionary key's element by index**"
   ]
  },
  {
   "cell_type": "code",
   "execution_count": 88,
   "metadata": {},
   "outputs": [
    {
     "name": "stdout",
     "output_type": "stream",
     "text": [
      "stats\n"
     ]
    }
   ],
   "source": [
    "num = {'stats':80, 'math': 90, 'algorithmn': 86}\n",
    "print(list(num)[0])"
   ]
  },
  {
   "cell_type": "markdown",
   "metadata": {},
   "source": [
    "**Write a program to insert a string at the begining of every elements in a list**"
   ]
  },
  {
   "cell_type": "code",
   "execution_count": 97,
   "metadata": {},
   "outputs": [
    {
     "data": {
      "text/plain": [
       "['customer100', 'customer200', 'customer123', 'customer456', 'customer798']"
      ]
     },
     "execution_count": 97,
     "metadata": {},
     "output_type": "execute_result"
    }
   ],
   "source": [
    "a = [100,200,123,456,798]\n",
    "\n",
    "# exoersion is 'customer{}'.format(i)\n",
    "['customer{}'.format(i) for i in a]"
   ]
  },
  {
   "cell_type": "markdown",
   "metadata": {},
   "source": [
    "**Write a program to take two lists and print if they have at least one common member**"
   ]
  },
  {
   "cell_type": "code",
   "execution_count": 108,
   "metadata": {},
   "outputs": [
    {
     "name": "stdout",
     "output_type": "stream",
     "text": [
      "True\n",
      "None\n"
     ]
    }
   ],
   "source": [
    "def common_data(l1,l2):\n",
    "    result = False\n",
    "    for x in l1:\n",
    "        for y in l2:\n",
    "            if x==y:\n",
    "                result = True\n",
    "                return result\n",
    "\n",
    "print(common_data([121,222,323,432,125],[125,236,457]))\n",
    "print(common_data([1,2,3],[4,5,6]))"
   ]
  },
  {
   "cell_type": "code",
   "execution_count": null,
   "metadata": {},
   "outputs": [],
   "source": []
  }
 ],
 "metadata": {
  "kernelspec": {
   "display_name": "Python 3",
   "language": "python",
   "name": "python3"
  },
  "language_info": {
   "codemirror_mode": {
    "name": "ipython",
    "version": 3
   },
   "file_extension": ".py",
   "mimetype": "text/x-python",
   "name": "python",
   "nbconvert_exporter": "python",
   "pygments_lexer": "ipython3",
   "version": "3.8.6"
  }
 },
 "nbformat": 4,
 "nbformat_minor": 4
}
